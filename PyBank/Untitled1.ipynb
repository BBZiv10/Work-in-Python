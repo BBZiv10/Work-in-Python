{
 "cells": [
  {
   "cell_type": "code",
   "execution_count": 3,
   "id": "2c02d161-fa1b-4c34-b2fc-f35528045138",
   "metadata": {},
   "outputs": [
    {
     "name": "stdout",
     "output_type": "stream",
     "text": [
      "First Name: Ada\n"
     ]
    }
   ],
   "source": [
    "# Topic: Strings\n",
    "\n",
    "# Create a variable named `subject` with no value (None).\n",
    "subject = None\n",
    "\n",
    "# Assign a value of \"Programmers to the variable `subject`.\n",
    "subject = \"Programmers\"\n",
    "\n",
    "# Create a variable, `first_name`, and assign it a value of an empty string.\n",
    "first_name = \"\" \n",
    "\n",
    "# Assign a value of \"Ada\" to the variable `first_name`.\n",
    "first_name = \"Ada\"\n",
    "\n",
    "# Create a variable, `last_name`, and assign it a value of a string, \"Lovelace\".\n",
    "last_name = \"Lovelace\"\n",
    "\n",
    "# Create a variable, `full_name`, and assign it a value of the combination of `first_name` and `last_name` with a space.\n",
    "full_name = f\"{first_name} {last_name}\"\n",
    "\n",
    "# Create a variable, `profession`, and assign it a value of a string, \"Computer Programmer\".\n",
    "profession = \"Computer Programmer\"\n",
    "\n",
    "# Create a variable, `known_for`, and assign it a value of a string, \"First Computer Programmer\".\n",
    "known_for = \"First Computer Programmer\"\n",
    "\n",
    "# Create a variable, `first_algorithm`, and assign it a value of a string, \"Analytical Engine\".\n",
    "first_algorithm = \"Analytical Engine\"\n",
    "\n",
    "# Create a variable, `city_location`, and assign it a value of a string, \"London\".\n",
    "city_location = \"London\"\n",
    "\n",
    "# Create a variable, `country_location`, and assign it a value of a string, \"England\".\n",
    "country_location = \"England\"\n",
    "\n",
    "# Create a variable, `nationality`, and assign it a value of a string, \"British\".\n",
    "nationality = \"British\"\n",
    "\n",
    "\n",
    "# Topic: Integers\n",
    "\n",
    "# Create a variable, `birth_year`, and assign it with an integer of 1815.\n",
    "birth_year = 1815\n",
    "\n",
    "# Create a variable, death_year, and assign it with an integer of 1852.\n",
    "death_year = 1852\n",
    "\n",
    "# Create a variable, age_at_passing, and assign it a value of death_year minus birth_year.\n",
    "age_at_passing = death_year - birth_year\n",
    "\n",
    "# Create a variable, year_of_publish, and assign it with an integer of 1842.\n",
    "year_of_publish = 1842\n",
    "\n",
    "\n",
    "#Topic: Print\n",
    "\n",
    "# Print: \"First Name: \" and `first_name`.\n",
    "print(f\"First Name: {first_name}\")"
   ]
  },
  {
   "cell_type": "code",
   "execution_count": 5,
   "id": "5f82e662-a3fa-46a1-a920-12e332e801d6",
   "metadata": {},
   "outputs": [
    {
     "name": "stdout",
     "output_type": "stream",
     "text": [
      "Last Name: Lovelace\n",
      "Profession: Computer Programmer\n",
      "Birth Year: 1815\n"
     ]
    }
   ],
   "source": [
    "# Print: \"Last Name: \" and `last_name`.\n",
    "print(f\"Last Name: {last_name}\")\n",
    "\n",
    "# Print: \"Profession: \" and `profession`.\n",
    "print(f\"Profession: {profession}\")\n",
    "\n",
    "# Print: \"BirthYear: \" and `birth_year`.\n",
    "print(f\"Birth Year: {birth_year}\")"
   ]
  },
  {
   "cell_type": "code",
   "execution_count": 6,
   "id": "ddd95f92-6e0d-4b1d-ba57-1db1959d4f67",
   "metadata": {},
   "outputs": [
    {
     "name": "stdout",
     "output_type": "stream",
     "text": [
      "Programmers: Ada Lovelace is a British Computer Programmer born in 1815.\n"
     ]
    }
   ],
   "source": [
    "#Topic: Concat Values\n",
    "\n",
    "# Create and print a variable, `statement_one`, by assigning it a value of a string:\n",
    "# \"Programmers: Ada Lovelace is a British Computer Programmer born in 1815.\"\n",
    "statement_one = f\"{subject}: {first_name} {last_name} is a {nationality} {profession} born in {birth_year}.\"\n",
    "print(statement_one)"
   ]
  },
  {
   "cell_type": "code",
   "execution_count": 7,
   "id": "37e2f6b9-fdf1-4f97-a7f0-c65906deb678",
   "metadata": {},
   "outputs": [
    {
     "name": "stdout",
     "output_type": "stream",
     "text": [
      "She is commonly referred to as the First Computer Programmer.\n"
     ]
    }
   ],
   "source": [
    "# Create and print a variable, `statement_two`, by assigning it a value of a string:\n",
    "# \"She is commonly referred to as the First Computer Programmer.\"\n",
    "statement_two = f\"She is commonly referred to as the {known_for}.\"\n",
    "print(statement_two)"
   ]
  },
  {
   "cell_type": "code",
   "execution_count": 4,
   "id": "07b65623-aa0d-4f54-b96f-8227f49abbc4",
   "metadata": {},
   "outputs": [
    {
     "name": "stdout",
     "output_type": "stream",
     "text": [
      "Last Name: Lovelace\n",
      "Profession: Computer Programmer\n",
      "Birth Year: 1815\n",
      "Programmers: Ada Lovelace is a British Computer Programmer born in 1815.\n",
      "She is commonly referred to as the First Computer Programmer.\n",
      "In 1842 she published the first Algorithm, Analytical Engine, at the age of 27.\n"
     ]
    }
   ],
   "source": [
    "# Create and print a variable, `statement_three`, by assigning it a value of a string:\n",
    "# \"In 1842 she published the first Algorithm, the Analytical Engine, at the age of 27.\"\n",
    "statement_three = f\"In 1842 she published the first Algorithm, {first_algorithm}, at the age of 27.\"\n",
    "print(statement_three)"
   ]
  },
  {
   "cell_type": "code",
   "execution_count": 9,
   "id": "d69b963a-9f77-4243-a2ed-cbc4074746ea",
   "metadata": {},
   "outputs": [
    {
     "name": "stdout",
     "output_type": "stream",
     "text": [
      "In 1842 she published the first Algorithm, Analytical Engine, at the age of 27.\n"
     ]
    }
   ],
   "source": [
    "statement_three = f\"In 1842 she published the first Algorithm, {first_algorithm}, at the age of 27.\"\n",
    "print(statement_three)"
   ]
  },
  {
   "cell_type": "code",
   "execution_count": 2,
   "id": "8bcd3fe4-02e5-4be4-8739-ddc2f9344f8b",
   "metadata": {},
   "outputs": [
    {
     "name": "stdout",
     "output_type": "stream",
     "text": [
      "She was a British Citizen who lived in London, England until her passing in 1852 at the age of 37.\n"
     ]
    }
   ],
   "source": [
    "# Create and print a variable, `statement_four`, by assigning it a value of a string:\n",
    "# \"She was a British Citizen who lived in London, England until her passing in 1852 at the age of 37.\"\n",
    "statement_four = f\"She was a {nationality} Citizen who lived in {city_location}, {country_location} until her \" \\\n",
    "                 f\"passing in {death_year} at the age of {age_at_passing}.\"\n",
    "print(statement_four)"
   ]
  },
  {
   "cell_type": "code",
   "execution_count": null,
   "id": "9165fcf9-1af2-4e66-834f-df40e544b3fe",
   "metadata": {},
   "outputs": [],
   "source": []
  }
 ],
 "metadata": {
  "kernelspec": {
   "display_name": "Python 3",
   "language": "python",
   "name": "python3"
  },
  "language_info": {
   "codemirror_mode": {
    "name": "ipython",
    "version": 3
   },
   "file_extension": ".py",
   "mimetype": "text/x-python",
   "name": "python",
   "nbconvert_exporter": "python",
   "pygments_lexer": "ipython3",
   "version": "3.8.5"
  }
 },
 "nbformat": 4,
 "nbformat_minor": 5
}
