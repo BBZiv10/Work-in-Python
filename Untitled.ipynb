{
 "cells": [
  {
   "cell_type": "code",
   "execution_count": 12,
   "id": "da8e6d94-3f6a-48e0-bf03-a6d0f27449dd",
   "metadata": {},
   "outputs": [
    {
     "ename": "SyntaxError",
     "evalue": "unexpected EOF while parsing (<ipython-input-12-aceecff63cf7>, line 58)",
     "output_type": "error",
     "traceback": [
      "\u001b[0;36m  File \u001b[0;32m\"<ipython-input-12-aceecff63cf7>\"\u001b[0;36m, line \u001b[0;32m58\u001b[0m\n\u001b[0;31m    with open(output_file,\"w\") as file:\u001b[0m\n\u001b[0m                                       ^\u001b[0m\n\u001b[0;31mSyntaxError\u001b[0m\u001b[0;31m:\u001b[0m unexpected EOF while parsing\n"
     ]
    }
   ],
   "source": [
    "# Import Dependencies\n",
    "import os, csv\n",
    "from pathlib import Path \n",
    "\n",
    "# Declare file location through pathlib\n",
    "input_file = Path(\"python-challenge\", \"PyBank\", \"budget_data.csv\")\n",
    "\n",
    "# Create empty lists to iterate through specific rows for the following variables\n",
    "total_months = []\n",
    "total_profit = []\n",
    "monthly_profit_change = []\n",
    " \n",
    "\n",
    "# Open csv in default read mode with context manager\n",
    "with open(input_file,newline=\"\", encoding=\"utf-8\") as budget:\n",
    "\n",
    "     # Store the contents of budget_data.csv in the variable csvreader\n",
    "    csvreader = csv.reader(budget,delimiter=\",\") \n",
    "\n",
    "    # Skip the header labels to iterate with the values\n",
    "    header = next(csvreader)  \n",
    "\n",
    "    # Iterate through the rows in the stored file contents\n",
    "    for row in csvreader: \n",
    "\n",
    "        # Append the total months and total profit to their corresponding lists\n",
    "        total_months.append(row[0])\n",
    "        total_profit.append(int(row[1]))\n",
    "\n",
    "    # Iterate through the profits in order to get the monthly change in profits\n",
    "    for i in range(len(total_profit)-1):\n",
    "        \n",
    "        # Take the difference between two months and append to monthly profit change\n",
    "        monthly_profit_change.append(total_profit[i+1]-total_profit[i])\n",
    "        \n",
    "# Obtain the max and min of the the montly profit change list\n",
    "max_increase_value = max(monthly_profit_change)\n",
    "max_decrease_value = min(monthly_profit_change)\n",
    "\n",
    "# Correlate max and min to the proper month using month list and index from max and min\n",
    "#We use the plus 1 at the end since month associated with change is the + 1 month or next month\n",
    "max_increase_month = monthly_profit_change.index(max(monthly_profit_change)) + 1\n",
    "max_decrease_month = monthly_profit_change.index(min(monthly_profit_change)) + 1 \n",
    "\n",
    "# Print Statements\n",
    "\n",
    "print(\"Financial Analysis\")\n",
    "print(\"----------------------------\")\n",
    "print(f\"Total Months: {len(total_months)}\")\n",
    "print(f\"Total: ${sum(total_profit)}\")\n",
    "print(f\"Average Change: {round(sum(monthly_profit_change)/len(monthly_profit_change),2)}\")\n",
    "print(f\"Greatest Increase in Profits: {total_months[max_increase_month]} (${(str(max_increase_value))})\")\n",
    "print(f\"Greatest Decrease in Profits: {total_months[max_decrease_month]} (${(str(max_decrease_value))})\")\n",
    "\n",
    "# Output files\n",
    "output_file = Path(\"python-challenge\", \"PyBank\", \"Financial_Analysis_Summary.txt\")\n",
    "\n",
    "with open(output_file,\"w\") as file:"
   ]
  },
  {
   "cell_type": "code",
   "execution_count": null,
   "id": "449a3dea-cc9a-400f-9f1f-b6542319d9ac",
   "metadata": {},
   "outputs": [],
   "source": []
  }
 ],
 "metadata": {
  "kernelspec": {
   "display_name": "Python 3",
   "language": "python",
   "name": "python3"
  },
  "language_info": {
   "codemirror_mode": {
    "name": "ipython",
    "version": 3
   },
   "file_extension": ".py",
   "mimetype": "text/x-python",
   "name": "python",
   "nbconvert_exporter": "python",
   "pygments_lexer": "ipython3",
   "version": "3.8.5"
  }
 },
 "nbformat": 4,
 "nbformat_minor": 5
}
