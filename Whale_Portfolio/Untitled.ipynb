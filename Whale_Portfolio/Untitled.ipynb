{
 "cells": [
  {
   "cell_type": "code",
   "execution_count": null,
   "id": "780118d5-4990-4758-923c-9d0e9ceb8a14",
   "metadata": {},
   "outputs": [],
   "source": [
    "   # * `algo_returns.csv`: Contains returns from the in-house trading algorithms from Harold's company.\n",
    "\n",
    "   # * `sp500_history.csv`: Contains historical closing prices of the S&P 500 Index.\n",
    "    "
   ]
  },
  {
   "cell_type": "code",
   "execution_count": null,
   "id": "2d2635d1-8642-41e6-ba8f-5e5d9b81de2a",
   "metadata": {},
   "outputs": [],
   "source": [
    "#2. Detect and remove null values."
   ]
  },
  {
   "cell_type": "code",
   "execution_count": null,
   "id": "79e27cfc-3eae-413e-b223-f97a912523cc",
   "metadata": {},
   "outputs": [],
   "source": [
    "#3. If any columns have dollar signs or characters other than numeric values, remove those characters and convert the data types as needed."
   ]
  },
  {
   "cell_type": "code",
   "execution_count": null,
   "id": "18128481-b1c1-4753-9761-c1368cd37486",
   "metadata": {},
   "outputs": [],
   "source": [
    "#4. The whale portfolios and algorithmic portfolio CSV files contain daily returns, but the S&P 500 CSV file contains closing prices. Convert the S&P 500 closing prices to daily returns."
   ]
  },
  {
   "cell_type": "code",
   "execution_count": null,
   "id": "04c1bdcb-7ace-47ba-9800-cb55b4aaeb6c",
   "metadata": {},
   "outputs": [],
   "source": [
    "#5. Join `Whale Returns`, `Algorithmic Returns`, and the `S&P 500 Returns` into a single DataFrame with columns for each portfolio's returns.\n",
    "\n",
    "    #![returns-dataframe.png](Images/returns-dataframe.png)"
   ]
  },
  {
   "cell_type": "code",
   "execution_count": null,
   "id": "4c0fcbb6-7ce6-4f24-95dc-2200d141a321",
   "metadata": {},
   "outputs": [],
   "source": [
    "### Conduct Quantitative Analysis\n",
    "\n",
    "Analyze the data to see if any of the portfolios outperform the stock market (i.e., the S&P 500)."
   ]
  },
  {
   "cell_type": "code",
   "execution_count": null,
   "id": "179964d5-6a85-47af-9c3b-9167e5d3a35c",
   "metadata": {},
   "outputs": [],
   "source": [
    "#### Performance Analysis\n",
    "\n",
    "1. Calculate and plot daily returns of all portfolios.\n",
    "\n",
    "2. Calculate and plot cumulative returns for all portfolios. Does any portfolio outperform the S&P 500?"
   ]
  },
  {
   "cell_type": "code",
   "execution_count": null,
   "id": "3c126c90-52cc-4b71-8489-e7715bae8511",
   "metadata": {},
   "outputs": [],
   "source": [
    "#### Risk Analysis\n",
    "\n",
    "1. Create a box plot for each of the returns. \n",
    "\n",
    "2. Calculate the standard deviation for each portfolio. \n",
    "\n",
    "3. Determine which portfolios are riskier than the S&P 500.\n",
    "\n",
    "4. Calculate the Annualized Standard Deviation.\n",
    "\n",
    "#### Rolling Statistics\n",
    "\n",
    "1. Calculate and plot the rolling standard deviation for all portfolios using a 21-day window.\n",
    "\n",
    "2. Calculate and plot the correlation between each stock to determine which portfolios may mimick the S&P 500.\n",
    "\n",
    "3. Choose one portfolio, then calculate and plot the 60-day rolling beta between it and the S&P 500.\n",
    "\n",
    "#### Rolling Statistics Challenge: Exponentially Weighted Average\n",
    "\n",
    "An alternative method to calculate a rolling window is to take the exponentially weighted moving average. This is like a moving window average, but it assigns greater importance to more recent observations. Try calculating the [`ewm`](https://pandas.pydata.org/pandas-docs/stable/reference/api/pandas.DataFrame.ewm.html) with a 21-day half-life.\n",
    "\n",
    "### Sharpe Ratios\n",
    "\n",
    "Investment managers and their institutional investors look at the return-to-risk ratio, not just the returns. After all, if you have two portfolios that each offer a 10% return, yet one is lower risk, you would invest in the lower-risk portfolio, right?\n",
    "\n",
    "1. Using the daily returns, calculate and visualize the Sharpe ratios using a bar plot.\n",
    "\n",
    "2. Determine whether the algorithmic strategies outperform both the market (S&P 500) and the whales portfolios.\n",
    "\n",
    "### Create a Custom Portfolio\n",
    "\n",
    "Harold is ecstatic that you were able to help him prove that the algorithmic trading portfolios are doing so well compared to the market and whales portfolios. However, now you are wondering whether you can choose your own portfolio that performs just as well as the algorithmic portfolios. Investigate by doing the following:\n",
    "\n",
    "1. Visit [Google Sheets](https://docs.google.com/spreadsheets/) and use the built-in Google Finance function to choose 3-5 stocks for your portfolio.\n",
    "\n",
    "2. Download the data as CSV files and calculate the portfolio returns.\n",
    "\n",
    "3. Calculate the weighted returns for your portfolio, assuming equal number of shares per stock.\n",
    "\n",
    "4. Add your portfolio returns to the DataFrame with the other portfolios.\n",
    "\n",
    "5. Run the following analyses:\n",
    "\n",
    "    * Calculate the Annualized Standard Deviation.\n",
    "    * Calculate and plot rolling `std` with a 21-day window.\n",
    "    * Calculate and plot the correlation.\n",
    "    * Calculate and plot beta for your portfolio compared to the S&P 60 TSX.\n",
    "    * Calculate the Sharpe ratios and generate a bar plot.\n",
    "\n",
    "4. How does your portfolio do?"
   ]
  }
 ],
 "metadata": {
  "kernelspec": {
   "display_name": "Python 3",
   "language": "python",
   "name": "python3"
  },
  "language_info": {
   "codemirror_mode": {
    "name": "ipython",
    "version": 3
   },
   "file_extension": ".py",
   "mimetype": "text/x-python",
   "name": "python",
   "nbconvert_exporter": "python",
   "pygments_lexer": "ipython3",
   "version": "3.8.5"
  }
 },
 "nbformat": 4,
 "nbformat_minor": 5
}
